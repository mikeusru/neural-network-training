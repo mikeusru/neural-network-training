{
  "nbformat": 4,
  "nbformat_minor": 0,
  "metadata": {
    "colab": {
      "name": "sequential_neural_networks.ipynb",
      "provenance": [],
      "collapsed_sections": [],
      "authorship_tag": "ABX9TyOvMrn1aJ3Nz/6zj9+xZY1E",
      "include_colab_link": true
    },
    "kernelspec": {
      "name": "python3",
      "display_name": "Python 3"
    },
    "language_info": {
      "name": "python"
    }
  },
  "cells": [
    {
      "cell_type": "markdown",
      "metadata": {
        "id": "view-in-github",
        "colab_type": "text"
      },
      "source": [
        "<a href=\"https://colab.research.google.com/github/mikeusru/neural-network-training/blob/main/sequential_neural_networks.ipynb\" target=\"_parent\"><img src=\"https://colab.research.google.com/assets/colab-badge.svg\" alt=\"Open In Colab\"/></a>"
      ]
    },
    {
      "cell_type": "markdown",
      "metadata": {
        "id": "xUPhWOrJgUyJ"
      },
      "source": [
        "So far we've been talking about feedforward networks, but often, our network predictions should rely on timed information which happened in the past. This is referred to as:\n",
        "\n",
        "#Sequence Learning\n",
        "\n",
        "So let's make a fun RNN to predict the stock market. You can download free stock market data at yahoo, and we're gonna use Gamestop because we're stupid today. Download the historical data and add the cvs to your project.\n",
        "\n",
        "https://finance.yahoo.com/quote/GME/\n"
      ]
    },
    {
      "cell_type": "code",
      "metadata": {
        "colab": {
          "base_uri": "https://localhost:8080/",
          "height": 204
        },
        "id": "DxGybkrdgRPR",
        "outputId": "c975edd1-3cdb-43e1-e985-7fe59b999104"
      },
      "source": [
        "import tensorflow as tf\n",
        "from tensorflow import keras\n",
        "\n",
        "import pandas as pd\n",
        "\n",
        "stock_data = pd.read_csv('GME.csv')\n",
        "stock_data.head()"
      ],
      "execution_count": 134,
      "outputs": [
        {
          "output_type": "execute_result",
          "data": {
            "text/html": [
              "<div>\n",
              "<style scoped>\n",
              "    .dataframe tbody tr th:only-of-type {\n",
              "        vertical-align: middle;\n",
              "    }\n",
              "\n",
              "    .dataframe tbody tr th {\n",
              "        vertical-align: top;\n",
              "    }\n",
              "\n",
              "    .dataframe thead th {\n",
              "        text-align: right;\n",
              "    }\n",
              "</style>\n",
              "<table border=\"1\" class=\"dataframe\">\n",
              "  <thead>\n",
              "    <tr style=\"text-align: right;\">\n",
              "      <th></th>\n",
              "      <th>Date</th>\n",
              "      <th>Open</th>\n",
              "      <th>High</th>\n",
              "      <th>Low</th>\n",
              "      <th>Close</th>\n",
              "      <th>Adj Close</th>\n",
              "      <th>Volume</th>\n",
              "    </tr>\n",
              "  </thead>\n",
              "  <tbody>\n",
              "    <tr>\n",
              "      <th>0</th>\n",
              "      <td>2016-03-30</td>\n",
              "      <td>31.570000</td>\n",
              "      <td>31.969999</td>\n",
              "      <td>31.000000</td>\n",
              "      <td>31.760000</td>\n",
              "      <td>24.791840</td>\n",
              "      <td>2522100</td>\n",
              "    </tr>\n",
              "    <tr>\n",
              "      <th>1</th>\n",
              "      <td>2016-03-31</td>\n",
              "      <td>31.870001</td>\n",
              "      <td>32.430000</td>\n",
              "      <td>31.670000</td>\n",
              "      <td>31.730000</td>\n",
              "      <td>24.768423</td>\n",
              "      <td>2094000</td>\n",
              "    </tr>\n",
              "    <tr>\n",
              "      <th>2</th>\n",
              "      <td>2016-04-01</td>\n",
              "      <td>31.730000</td>\n",
              "      <td>31.760000</td>\n",
              "      <td>30.709999</td>\n",
              "      <td>31.340000</td>\n",
              "      <td>24.463989</td>\n",
              "      <td>2135100</td>\n",
              "    </tr>\n",
              "    <tr>\n",
              "      <th>3</th>\n",
              "      <td>2016-04-04</td>\n",
              "      <td>31.389999</td>\n",
              "      <td>31.420000</td>\n",
              "      <td>30.709999</td>\n",
              "      <td>30.930000</td>\n",
              "      <td>24.143944</td>\n",
              "      <td>1491800</td>\n",
              "    </tr>\n",
              "    <tr>\n",
              "      <th>4</th>\n",
              "      <td>2016-04-05</td>\n",
              "      <td>30.799999</td>\n",
              "      <td>31.080000</td>\n",
              "      <td>30.219999</td>\n",
              "      <td>30.290001</td>\n",
              "      <td>23.644358</td>\n",
              "      <td>1751000</td>\n",
              "    </tr>\n",
              "  </tbody>\n",
              "</table>\n",
              "</div>"
            ],
            "text/plain": [
              "         Date       Open       High        Low      Close  Adj Close   Volume\n",
              "0  2016-03-30  31.570000  31.969999  31.000000  31.760000  24.791840  2522100\n",
              "1  2016-03-31  31.870001  32.430000  31.670000  31.730000  24.768423  2094000\n",
              "2  2016-04-01  31.730000  31.760000  30.709999  31.340000  24.463989  2135100\n",
              "3  2016-04-04  31.389999  31.420000  30.709999  30.930000  24.143944  1491800\n",
              "4  2016-04-05  30.799999  31.080000  30.219999  30.290001  23.644358  1751000"
            ]
          },
          "metadata": {
            "tags": []
          },
          "execution_count": 134
        }
      ]
    },
    {
      "cell_type": "code",
      "metadata": {
        "colab": {
          "base_uri": "https://localhost:8080/",
          "height": 282
        },
        "id": "YfhvM5hCtBXU",
        "outputId": "941f9550-bf77-4040-f3c4-e8bc1f6018d6"
      },
      "source": [
        "# Make the data univariate, for simplicity\n",
        "stock_price = stock_data[['Close']]\n",
        "stock_price.plot()"
      ],
      "execution_count": 145,
      "outputs": [
        {
          "output_type": "execute_result",
          "data": {
            "text/plain": [
              "<matplotlib.axes._subplots.AxesSubplot at 0x7f00accb60d0>"
            ]
          },
          "metadata": {
            "tags": []
          },
          "execution_count": 145
        },
        {
          "output_type": "display_data",
          "data": {
            "image/png": "[encoded data removed]",
            "text/plain": [
              "<Figure size 432x288 with 1 Axes>"
            ]
          },
          "metadata": {
            "tags": [],
            "needs_background": "light"
          }
        }
      ]
    },
    {
      "cell_type": "markdown",
      "metadata": {
        "id": "IbR051umt-H1"
      },
      "source": [
        "Ugh. moving along... This dataset is too large, and we need to split it up into batches."
      ]
    },
    {
      "cell_type": "code",
      "metadata": {
        "colab": {
          "base_uri": "https://localhost:8080/"
        },
        "id": "zBU0g2J4wydy",
        "outputId": "d6f0fb72-8220-4a53-e044-901594bdfd55"
      },
      "source": [
        "import numpy as np\n",
        "\n",
        "n_steps = 50\n",
        "\n",
        "prices = np.array(stock_price.values)\n",
        "batch_list = []\n",
        "for i in range(len(prices) // n_steps):\n",
        "  batch = prices[i*n_steps : (i+1) * n_steps +1]\n",
        "  batch = batch / np.mean(batch) -1\n",
        "  batch_list.append(batch)\n",
        "len(batch_list)\n",
        "series = np.stack(batch_list)\n",
        "series.shape\n"
      ],
      "execution_count": 136,
      "outputs": [
        {
          "output_type": "execute_result",
          "data": {
            "text/plain": [
              "(25, 51, 1)"
            ]
          },
          "metadata": {
            "tags": []
          },
          "execution_count": 136
        }
      ]
    },
    {
      "cell_type": "code",
      "metadata": {
        "colab": {
          "base_uri": "https://localhost:8080/",
          "height": 285
        },
        "id": "SvXXK-3N9H3-",
        "outputId": "6fc33f99-1803-484c-ca69-bbab8933d247"
      },
      "source": [
        "plt.plot(series[10,:])"
      ],
      "execution_count": 137,
      "outputs": [
        {
          "output_type": "execute_result",
          "data": {
            "text/plain": [
              "[<matplotlib.lines.Line2D at 0x7f00b0260510>]"
            ]
          },
          "metadata": {
            "tags": []
          },
          "execution_count": 137
        },
        {
          "output_type": "display_data",
          "data": {
            "image/png": "[encoded data removed]",
            "text/plain": [
              "<Figure size 432x288 with 1 Axes>"
            ]
          },
          "metadata": {
            "tags": [],
            "needs_background": "light"
          }
        }
      ]
    },
    {
      "cell_type": "code",
      "metadata": {
        "id": "atiog3RbtsXJ"
      },
      "source": [
        "X_train, y_train = series[:18, :n_steps], series[:18, -1]\n",
        "X_valid, y_valid = series[20:22, :n_steps], series[20:22, -1]\n",
        "X_test, y_test = series[22:, :n_steps], series[22:, -1]"
      ],
      "execution_count": 138,
      "outputs": []
    },
    {
      "cell_type": "code",
      "metadata": {
        "colab": {
          "base_uri": "https://localhost:8080/"
        },
        "id": "iTFY7gzBwl4h",
        "outputId": "c1d38130-94c1-47b7-f60b-9bdbeffc9335"
      },
      "source": [
        "X_train.shape, y_train.shape"
      ],
      "execution_count": 139,
      "outputs": [
        {
          "output_type": "execute_result",
          "data": {
            "text/plain": [
              "((18, 50, 1), (18, 1))"
            ]
          },
          "metadata": {
            "tags": []
          },
          "execution_count": 139
        }
      ]
    },
    {
      "cell_type": "markdown",
      "metadata": {
        "id": "HMxBdhc113FS"
      },
      "source": [
        "The training data is split by batch number, number of time steps per batch, and dimensionality.\n",
        "\n",
        "We also want to add some **baseline metrics** so we know our algorithm is working better than the most obvious predictions. For example, a baseline prediction for today's stock price is yesterday's stock price. "
      ]
    },
    {
      "cell_type": "code",
      "metadata": {
        "colab": {
          "base_uri": "https://localhost:8080/"
        },
        "id": "qJNzXC_P1sAo",
        "outputId": "e2e094ee-b7af-4c46-ea33-2b5d2a06d3c8"
      },
      "source": [
        "y_pred = X_valid[:,-1]\n",
        "naive_mse = np.mean(keras.losses.mean_squared_error(y_valid, y_pred))\n",
        "print(f\"naive forecast MSE: {naive_mse}\")"
      ],
      "execution_count": 140,
      "outputs": [
        {
          "output_type": "stream",
          "text": [
            "naive forecast MSE: 0.0001314731181667618\n"
          ],
          "name": "stdout"
        }
      ]
    },
    {
      "cell_type": "markdown",
      "metadata": {
        "id": "3QgYwQc13cI9"
      },
      "source": [
        "Now let's make the simplest RNN we can build: just a single layer with a single neuron."
      ]
    },
    {
      "cell_type": "code",
      "metadata": {
        "colab": {
          "base_uri": "https://localhost:8080/"
        },
        "id": "X8-P5COI3BOy",
        "outputId": "d396fd56-e4ae-4583-fac6-f178d8f5df2a"
      },
      "source": [
        "model = keras.models.Sequential([\n",
        "    keras.layers.SimpleRNN(1, input_shape=[None, 1])\n",
        "])\n",
        "\n",
        "optimizer = keras.optimizers.Adam(lr=0.005)\n",
        "model.compile(loss=\"mse\", optimizer=optimizer)\n",
        "history = model.fit(X_train, y_train, epochs=20,\n",
        "                    validation_data=(X_valid, y_valid))"
      ],
      "execution_count": 141,
      "outputs": [
        {
          "output_type": "stream",
          "text": [
            "Epoch 1/20\n",
            "1/1 [==============================] - 1s 986ms/step - loss: 0.1496 - val_loss: 0.0657\n",
            "Epoch 2/20\n",
            "1/1 [==============================] - 0s 57ms/step - loss: 0.1500 - val_loss: 0.0643\n",
            "Epoch 3/20\n",
            "1/1 [==============================] - 0s 56ms/step - loss: 0.1435 - val_loss: 0.0652\n",
            "Epoch 4/20\n",
            "1/1 [==============================] - 0s 51ms/step - loss: 0.1401 - val_loss: 0.0654\n",
            "Epoch 5/20\n",
            "1/1 [==============================] - 0s 54ms/step - loss: 0.1378 - val_loss: 0.0633\n",
            "Epoch 6/20\n",
            "1/1 [==============================] - 0s 55ms/step - loss: 0.1346 - val_loss: 0.0594\n",
            "Epoch 7/20\n",
            "1/1 [==============================] - 0s 49ms/step - loss: 0.1308 - val_loss: 0.0545\n",
            "Epoch 8/20\n",
            "1/1 [==============================] - 0s 53ms/step - loss: 0.1270 - val_loss: 0.0493\n",
            "Epoch 9/20\n",
            "1/1 [==============================] - 0s 59ms/step - loss: 0.1234 - val_loss: 0.0443\n",
            "Epoch 10/20\n",
            "1/1 [==============================] - 0s 62ms/step - loss: 0.1200 - val_loss: 0.0398\n",
            "Epoch 11/20\n",
            "1/1 [==============================] - 0s 49ms/step - loss: 0.1168 - val_loss: 0.0358\n",
            "Epoch 12/20\n",
            "1/1 [==============================] - 0s 49ms/step - loss: 0.1136 - val_loss: 0.0324\n",
            "Epoch 13/20\n",
            "1/1 [==============================] - 0s 57ms/step - loss: 0.1104 - val_loss: 0.0295\n",
            "Epoch 14/20\n",
            "1/1 [==============================] - 0s 56ms/step - loss: 0.1072 - val_loss: 0.0269\n",
            "Epoch 15/20\n",
            "1/1 [==============================] - 0s 54ms/step - loss: 0.1041 - val_loss: 0.0247\n",
            "Epoch 16/20\n",
            "1/1 [==============================] - 0s 59ms/step - loss: 0.1010 - val_loss: 0.0227\n",
            "Epoch 17/20\n",
            "1/1 [==============================] - 0s 63ms/step - loss: 0.0979 - val_loss: 0.0210\n",
            "Epoch 18/20\n",
            "1/1 [==============================] - 0s 58ms/step - loss: 0.0949 - val_loss: 0.0193\n",
            "Epoch 19/20\n",
            "1/1 [==============================] - 0s 55ms/step - loss: 0.0920 - val_loss: 0.0178\n",
            "Epoch 20/20\n",
            "1/1 [==============================] - 0s 58ms/step - loss: 0.0892 - val_loss: 0.0163\n"
          ],
          "name": "stdout"
        }
      ]
    },
    {
      "cell_type": "code",
      "metadata": {
        "colab": {
          "base_uri": "https://localhost:8080/"
        },
        "id": "HhOdu5hI3pTc",
        "outputId": "727e65af-a4ff-49de-f8cf-3d42f3ab9b0b"
      },
      "source": [
        "model.evaluate(X_test, y_test)\n"
      ],
      "execution_count": 127,
      "outputs": [
        {
          "output_type": "stream",
          "text": [
            "1/1 [==============================] - 0s 18ms/step - loss: 0.0059\n"
          ],
          "name": "stdout"
        },
        {
          "output_type": "execute_result",
          "data": {
            "text/plain": [
              "0.005929465871304274"
            ]
          },
          "metadata": {
            "tags": []
          },
          "execution_count": 127
        }
      ]
    },
    {
      "cell_type": "code",
      "metadata": {
        "colab": {
          "base_uri": "https://localhost:8080/"
        },
        "id": "qMUPbrmI5AIs",
        "outputId": "e0c97e7c-47bf-47d7-cade-c8851934317c"
      },
      "source": [
        "model = keras.models.Sequential([\n",
        "    keras.layers.SimpleRNN(20, return_sequences=True, input_shape=[None, 1]),\n",
        "    keras.layers.SimpleRNN(20, return_sequences=True),\n",
        "    keras.layers.SimpleRNN(1)\n",
        "])\n",
        "\n",
        "model.compile(loss=\"mse\", optimizer=\"adam\")\n",
        "history = model.fit(X_train, y_train, epochs=20,\n",
        "                    validation_data=(X_valid, y_valid))"
      ],
      "execution_count": 128,
      "outputs": [
        {
          "output_type": "stream",
          "text": [
            "Epoch 1/20\n",
            "1/1 [==============================] - 2s 2s/step - loss: 0.1002 - val_loss: 0.0969\n",
            "Epoch 2/20\n",
            "1/1 [==============================] - 0s 67ms/step - loss: 0.1765 - val_loss: 0.0189\n",
            "Epoch 3/20\n",
            "1/1 [==============================] - 0s 73ms/step - loss: 0.0624 - val_loss: 0.0850\n",
            "Epoch 4/20\n",
            "1/1 [==============================] - 0s 71ms/step - loss: 0.0935 - val_loss: 0.0758\n",
            "Epoch 5/20\n",
            "1/1 [==============================] - 0s 70ms/step - loss: 0.0958 - val_loss: 0.0408\n",
            "Epoch 6/20\n",
            "1/1 [==============================] - 0s 72ms/step - loss: 0.0685 - val_loss: 0.0080\n",
            "Epoch 7/20\n",
            "1/1 [==============================] - 0s 70ms/step - loss: 0.0440 - val_loss: 0.0070\n",
            "Epoch 8/20\n",
            "1/1 [==============================] - 0s 66ms/step - loss: 0.0388 - val_loss: 0.0257\n",
            "Epoch 9/20\n",
            "1/1 [==============================] - 0s 66ms/step - loss: 0.0496 - val_loss: 0.0282\n",
            "Epoch 10/20\n",
            "1/1 [==============================] - 0s 75ms/step - loss: 0.0530 - val_loss: 0.0134\n",
            "Epoch 11/20\n",
            "1/1 [==============================] - 0s 74ms/step - loss: 0.0404 - val_loss: 0.0034\n",
            "Epoch 12/20\n",
            "1/1 [==============================] - 0s 65ms/step - loss: 0.0247 - val_loss: 0.0093\n",
            "Epoch 13/20\n",
            "1/1 [==============================] - 0s 67ms/step - loss: 0.0195 - val_loss: 0.0224\n",
            "Epoch 14/20\n",
            "1/1 [==============================] - 0s 81ms/step - loss: 0.0235 - val_loss: 0.0317\n",
            "Epoch 15/20\n",
            "1/1 [==============================] - 0s 69ms/step - loss: 0.0275 - val_loss: 0.0327\n",
            "Epoch 16/20\n",
            "1/1 [==============================] - 0s 67ms/step - loss: 0.0266 - val_loss: 0.0260\n",
            "Epoch 17/20\n",
            "1/1 [==============================] - 0s 68ms/step - loss: 0.0206 - val_loss: 0.0154\n",
            "Epoch 18/20\n",
            "1/1 [==============================] - 0s 78ms/step - loss: 0.0137 - val_loss: 0.0072\n",
            "Epoch 19/20\n",
            "1/1 [==============================] - 0s 70ms/step - loss: 0.0116 - val_loss: 0.0060\n",
            "Epoch 20/20\n",
            "1/1 [==============================] - 0s 66ms/step - loss: 0.0132 - val_loss: 0.0083\n"
          ],
          "name": "stdout"
        }
      ]
    },
    {
      "cell_type": "code",
      "metadata": {
        "colab": {
          "base_uri": "https://localhost:8080/",
          "height": 285
        },
        "id": "3k9gGy9B7Ewm",
        "outputId": "9dd674c1-faee-4241-ba2f-a9f86ccff274"
      },
      "source": [
        "def plot_series(series, y=None, y_pred=None, x_label=\"$t$\", y_label=\"$x(t)$\"):\n",
        "    plt.plot(series, \".-\")\n",
        "    if y is not None:\n",
        "        plt.plot(n_steps, y, \"bx\", markersize=10)\n",
        "    if y_pred is not None:\n",
        "        plt.plot(n_steps, y_pred, \"ro\")\n",
        "    plt.grid(True)\n",
        "    if x_label:\n",
        "        plt.xlabel(x_label, fontsize=16)\n",
        "    if y_label:\n",
        "        plt.ylabel(y_label, fontsize=16, rotation=0)\n",
        "    plt.hlines(0, 0, 50, linewidth=1)\n",
        "\n",
        "fig, axes = plt.subplots(nrows=1, ncols=2, sharey=True, figsize=(12, 4))\n",
        "\n",
        "for col in range(2):\n",
        "    plt.sca(axes[col])\n",
        "    plot_series(X_valid[col, :, 0], y_valid[col, 0],\n",
        "                y_label=(\"$x(t)$\" if col==0 else None))\n",
        "plt.show()"
      ],
      "execution_count": 142,
      "outputs": [
        {
          "output_type": "display_data",
          "data": {
            "image/png": "[encoded data removed]",
            "text/plain": [
              "<Figure size 864x288 with 2 Axes>"
            ]
          },
          "metadata": {
            "tags": [],
            "needs_background": "light"
          }
        }
      ]
    },
    {
      "cell_type": "code",
      "metadata": {
        "colab": {
          "base_uri": "https://localhost:8080/",
          "height": 322
        },
        "id": "rurU4xYY7HVM",
        "outputId": "2c32983f-2863-47f0-a656-724c565626ab"
      },
      "source": [
        "y_pred = model.predict(X_valid)\n",
        "plot_series(X_valid[0, :, 0], y_valid[0, 0], y_pred[0, 0])\n",
        "plt.show()"
      ],
      "execution_count": 143,
      "outputs": [
        {
          "output_type": "stream",
          "text": [
            "WARNING:tensorflow:5 out of the last 70 calls to <function Model.make_predict_function.<locals>.predict_function at 0x7f00b1119d40> triggered tf.function retracing. Tracing is expensive and the excessive number of tracings could be due to (1) creating @tf.function repeatedly in a loop, (2) passing tensors with different shapes, (3) passing Python objects instead of tensors. For (1), please define your @tf.function outside of the loop. For (2), @tf.function has experimental_relax_shapes=True option that relaxes argument shapes that can avoid unnecessary retracing. For (3), please refer to https://www.tensorflow.org/guide/function#controlling_retracing and https://www.tensorflow.org/api_docs/python/tf/function for  more details.\n"
          ],
          "name": "stdout"
        },
        {
          "output_type": "display_data",
          "data": {
            "image/png": "[encoded data removed]",
            "text/plain": [
              "<Figure size 432x288 with 1 Axes>"
            ]
          },
          "metadata": {
            "tags": [],
            "needs_background": "light"
          }
        }
      ]
    }
  ]
}