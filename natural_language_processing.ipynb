{
  "nbformat": 4,
  "nbformat_minor": 0,
  "metadata": {
    "colab": {
      "name": "natural_language_processing.ipynb",
      "provenance": [],
      "authorship_tag": "ABX9TyOmkREDFoRo8BhoMNMNvgR4",
      "include_colab_link": true
    },
    "kernelspec": {
      "name": "python3",
      "display_name": "Python 3"
    },
    "language_info": {
      "name": "python"
    },
    "accelerator": "GPU"
  },
  "cells": [
    {
      "cell_type": "markdown",
      "metadata": {
        "id": "view-in-github",
        "colab_type": "text"
      },
      "source": [
        "<a href=\"https://colab.research.google.com/github/mikeusru/neural-network-training/blob/main/natural_language_processing.ipynb\" target=\"_parent\"><img src=\"https://colab.research.google.com/assets/colab-badge.svg\" alt=\"Open In Colab\"/></a>"
      ]
    },
    {
      "cell_type": "markdown",
      "metadata": {
        "id": "hDBigOxE2NFE"
      },
      "source": [
        "## Generating Shakespearean Text"
      ]
    },
    {
      "cell_type": "markdown",
      "metadata": {
        "id": "4-oHDgf123Pc"
      },
      "source": [
        "### Load the Data"
      ]
    },
    {
      "cell_type": "code",
      "metadata": {
        "id": "f7YCM26h3DPt"
      },
      "source": [
        "import tensorflow as tf\n",
        "from tensorflow import keras"
      ],
      "execution_count": 1,
      "outputs": []
    },
    {
      "cell_type": "code",
      "metadata": {
        "colab": {
          "base_uri": "https://localhost:8080/"
        },
        "id": "P-0qPEarzIVV",
        "outputId": "8a98191c-b637-458e-dea6-77ba69c6f0e1"
      },
      "source": [
        "shakespeare_url = \"https://raw.githubusercontent.com/karpathy/char-rnn/master/data/tinyshakespeare/input.txt\"\n",
        "filepath = keras.utils.get_file(\"shakespeare.txt\", shakespeare_url)\n",
        "with open(filepath) as f:\n",
        "    shakespeare_text = f.read()"
      ],
      "execution_count": 2,
      "outputs": [
        {
          "output_type": "stream",
          "text": [
            "Downloading data from https://raw.githubusercontent.com/karpathy/char-rnn/master/data/tinyshakespeare/input.txt\n",
            "1122304/1115394 [==============================] - 0s 0us/step\n"
          ],
          "name": "stdout"
        }
      ]
    },
    {
      "cell_type": "code",
      "metadata": {
        "colab": {
          "base_uri": "https://localhost:8080/"
        },
        "id": "gnA_Zr-f2-2x",
        "outputId": "64356850-a25e-41ba-87bf-7dbdfaea1619"
      },
      "source": [
        "print(shakespeare_text[:300])"
      ],
      "execution_count": 11,
      "outputs": [
        {
          "output_type": "stream",
          "text": [
            "First Citizen:\n",
            "Before we proceed any further, hear me speak.\n",
            "\n",
            "All:\n",
            "Speak, speak.\n",
            "\n",
            "First Citizen:\n",
            "You are all resolved rather to die than to famish?\n",
            "\n",
            "All:\n",
            "Resolved. resolved.\n",
            "\n",
            "First Citizen:\n",
            "First, you know Caius Marcius is chief enemy to the people.\n",
            "\n",
            "All:\n",
            "We know't, we know't.\n",
            "\n",
            "First Citizen:\n",
            "Let us\n"
          ],
          "name": "stdout"
        }
      ]
    },
    {
      "cell_type": "markdown",
      "metadata": {
        "id": "KRJQ34U_3yCo"
      },
      "source": [
        "### Tokenize our text"
      ]
    },
    {
      "cell_type": "code",
      "metadata": {
        "id": "bvZrOi_q3SfO"
      },
      "source": [
        "tokenizer = keras.preprocessing.text.Tokenizer(char_level=True)\n",
        "tokenizer.fit_on_texts(shakespeare_text)"
      ],
      "execution_count": 12,
      "outputs": []
    },
    {
      "cell_type": "markdown",
      "metadata": {
        "id": "X3ixH9i058js"
      },
      "source": [
        ""
      ]
    },
    {
      "cell_type": "code",
      "metadata": {
        "colab": {
          "base_uri": "https://localhost:8080/"
        },
        "id": "pnrh2gIq5m8Q",
        "outputId": "0b1de7d3-2123-4457-b892-dbd41240797b"
      },
      "source": [
        "tokenizer.texts_to_sequences([\"Shakespeare is old lol\"])"
      ],
      "execution_count": 16,
      "outputs": [
        {
          "output_type": "execute_result",
          "data": {
            "text/plain": [
              "[[8, 7, 5, 25, 2, 8, 23, 2, 5, 9, 2, 1, 6, 8, 1, 4, 12, 13, 1, 12, 4, 12]]"
            ]
          },
          "metadata": {
            "tags": []
          },
          "execution_count": 16
        }
      ]
    },
    {
      "cell_type": "code",
      "metadata": {
        "colab": {
          "base_uri": "https://localhost:8080/"
        },
        "id": "Nzv10mjL5odG",
        "outputId": "9bc658d1-dab2-4f2c-80d0-f5a7150dfca8"
      },
      "source": [
        "tokenizer.sequences_to_texts([[8, 7, 5, 25, 2, 8, 23, 2, 5, 9, 2, 1, 6, 8, 1, 4, 12, 13, 1, 12, 4, 12]])"
      ],
      "execution_count": 21,
      "outputs": [
        {
          "output_type": "execute_result",
          "data": {
            "text/plain": [
              "['s h a k e s p e a r e   i s   o l d   l o l']"
            ]
          },
          "metadata": {
            "tags": []
          },
          "execution_count": 21
        }
      ]
    },
    {
      "cell_type": "code",
      "metadata": {
        "colab": {
          "base_uri": "https://localhost:8080/"
        },
        "id": "Ao7efLFY9NrT",
        "outputId": "71822b4e-eccb-4261-d747-e00fef887fef"
      },
      "source": [
        "max_id = len(tokenizer.word_index) # number of distinct characters\n",
        "dataset_size = tokenizer.document_count\n",
        "print(f\"Total number of characters: {dataset_size}\")"
      ],
      "execution_count": 46,
      "outputs": [
        {
          "output_type": "stream",
          "text": [
            "Total number of characters: 1115394\n"
          ],
          "name": "stdout"
        }
      ]
    },
    {
      "cell_type": "code",
      "metadata": {
        "id": "iDyj4Y3I_CyQ"
      },
      "source": [
        "import numpy as np\n",
        "\n",
        "# Encode full text, subtract 1 so it starts from 0 instead of 1\n",
        "[encoded] = np.array(tokenizer.texts_to_sequences([shakespeare_text])) - 1"
      ],
      "execution_count": 24,
      "outputs": []
    },
    {
      "cell_type": "code",
      "metadata": {
        "colab": {
          "base_uri": "https://localhost:8080/"
        },
        "id": "9ON4raB2AbWM",
        "outputId": "d1d819cc-d87c-47c4-f23f-0ddb66725434"
      },
      "source": [
        "encoded.shape"
      ],
      "execution_count": 26,
      "outputs": [
        {
          "output_type": "execute_result",
          "data": {
            "text/plain": [
              "(1115394,)"
            ]
          },
          "metadata": {
            "tags": []
          },
          "execution_count": 26
        }
      ]
    },
    {
      "cell_type": "code",
      "metadata": {
        "colab": {
          "base_uri": "https://localhost:8080/"
        },
        "id": "zIY0XBYAAcvq",
        "outputId": "f6696636-650e-4dbb-b1c5-db509f9486f2"
      },
      "source": [
        "train_size = dataset_size * 90 // 100\n",
        "print(f\"Training set size: {train_size}\")"
      ],
      "execution_count": 29,
      "outputs": [
        {
          "output_type": "stream",
          "text": [
            "Training set size: 1003854\n"
          ],
          "name": "stdout"
        }
      ]
    },
    {
      "cell_type": "code",
      "metadata": {
        "id": "flcjK4yJD29S"
      },
      "source": [
        "dataset = tf.data.Dataset.from_tensor_slices(encoded[:train_size])"
      ],
      "execution_count": 30,
      "outputs": []
    },
    {
      "cell_type": "markdown",
      "metadata": {
        "id": "SfNgfHM5FUVG"
      },
      "source": [
        "### Chop the sequential dataset into multiple windows"
      ]
    },
    {
      "cell_type": "code",
      "metadata": {
        "id": "rnsXKMCEFEIk"
      },
      "source": [
        "n_steps = 100\n",
        "window_length = n_steps + 1\n",
        "dataset = dataset.window(window_length, shift=1, drop_remainder=True)"
      ],
      "execution_count": 35,
      "outputs": []
    },
    {
      "cell_type": "code",
      "metadata": {
        "id": "GsT2T2OOFLMh"
      },
      "source": [
        "dataset = dataset.flat_map(lambda window: window.batch(window_length))"
      ],
      "execution_count": 37,
      "outputs": []
    },
    {
      "cell_type": "code",
      "metadata": {
        "id": "s3u3bWHJHOm8"
      },
      "source": [
        "batch_size = 32\n",
        "dataset = dataset.shuffle(10000).batch(batch_size)\n",
        "dataset = dataset.map(lambda windows: (windows[:, :-1], windows[:, 1:]))"
      ],
      "execution_count": 44,
      "outputs": []
    },
    {
      "cell_type": "code",
      "metadata": {
        "id": "NtU6NDevKox7"
      },
      "source": [
        "dataset = dataset.map(\n",
        "    lambda X_batch, Y_batch: (tf.one_hot(X_batch, depth=max_id), Y_batch))"
      ],
      "execution_count": 47,
      "outputs": []
    },
    {
      "cell_type": "code",
      "metadata": {
        "id": "_iKcgvZ6KxsL"
      },
      "source": [
        "dataset = dataset.prefetch(1)"
      ],
      "execution_count": 48,
      "outputs": []
    },
    {
      "cell_type": "markdown",
      "metadata": {
        "id": "NPwxadGWMCfl"
      },
      "source": [
        "## Build and train a Char-RNN Model"
      ]
    },
    {
      "cell_type": "code",
      "metadata": {
        "id": "g472DdaLL0oG"
      },
      "source": [
        "model = keras.models.Sequential([\n",
        "    keras.layers.GRU(128, return_sequences=True, input_shape=[None, max_id],\n",
        "                     dropout=0.2),\n",
        "    keras.layers.GRU(128, return_sequences=True,\n",
        "                     dropout=0.2),\n",
        "    keras.layers.TimeDistributed(keras.layers.Dense(max_id,\n",
        "                                                    activation=\"softmax\"))\n",
        "])\n",
        "model.compile(loss=\"sparse_categorical_crossentropy\", optimizer=\"adam\")\n"
      ],
      "execution_count": 51,
      "outputs": []
    },
    {
      "cell_type": "code",
      "metadata": {
        "colab": {
          "base_uri": "https://localhost:8080/",
          "height": 422
        },
        "id": "1frNzFqtL1FI",
        "outputId": "26cf1429-54f3-43f8-c210-b71ea1cfb30b"
      },
      "source": [
        "keras.utils.plot_model(model, show_shapes=True)"
      ],
      "execution_count": 55,
      "outputs": [
        {
          "output_type": "execute_result",
          "data": {
            "image/png": "[encoded data removed]",
            "text/plain": [
              "<IPython.core.display.Image object>"
            ]
          },
          "metadata": {
            "tags": []
          },
          "execution_count": 55
        }
      ]
    },
    {
      "cell_type": "code",
      "metadata": {
        "colab": {
          "base_uri": "https://localhost:8080/"
        },
        "id": "-FvVazqLMWpD",
        "outputId": "7cbc4929-6eec-409b-d040-c568bc5b4cad"
      },
      "source": [
        "history = model.fit(dataset, epochs=10)"
      ],
      "execution_count": 63,
      "outputs": [
        {
          "output_type": "stream",
          "text": [
            "Epoch 1/10\n",
            "31368/31368 [==============================] - 364s 12ms/step - loss: 1.5379\n",
            "Epoch 2/10\n",
            "31368/31368 [==============================] - 364s 12ms/step - loss: 1.5139\n",
            "Epoch 3/10\n",
            "31368/31368 [==============================] - 361s 11ms/step - loss: 1.5009\n",
            "Epoch 4/10\n",
            "31368/31368 [==============================] - 357s 11ms/step - loss: 1.4933\n",
            "Epoch 5/10\n",
            "31368/31368 [==============================] - 356s 11ms/step - loss: 1.4873\n",
            "Epoch 6/10\n",
            "31368/31368 [==============================] - 365s 12ms/step - loss: 1.4838\n",
            "Epoch 7/10\n",
            "31368/31368 [==============================] - 369s 12ms/step - loss: 1.4806\n",
            "Epoch 8/10\n",
            "31368/31368 [==============================] - 371s 12ms/step - loss: 1.4781\n",
            "Epoch 9/10\n",
            "31368/31368 [==============================] - 369s 12ms/step - loss: 1.4768\n",
            "Epoch 10/10\n",
            "31368/31368 [==============================] - 371s 12ms/step - loss: 1.4748\n"
          ],
          "name": "stdout"
        }
      ]
    },
    {
      "cell_type": "code",
      "metadata": {
        "id": "eAVhBVNeMy8x"
      },
      "source": [
        "model.save(\"char_rnn_shakespeare.h5\")"
      ],
      "execution_count": 64,
      "outputs": []
    },
    {
      "cell_type": "markdown",
      "metadata": {
        "id": "EGsfs1DBNwOc"
      },
      "source": [
        "### Use our model"
      ]
    },
    {
      "cell_type": "code",
      "metadata": {
        "id": "aX6R9fMfN9eJ"
      },
      "source": [
        "model = keras.models.load_model(\"char_rnn_shakespeare.h5\")"
      ],
      "execution_count": null,
      "outputs": []
    },
    {
      "cell_type": "code",
      "metadata": {
        "id": "xW7OZj60NxYh"
      },
      "source": [
        "def preprocess(texts):\n",
        "  X = np.array(tokenizer.texts_to_sequences(texts)) - 1\n",
        "  return tf.one_hot(X, max_id)\n"
      ],
      "execution_count": 68,
      "outputs": []
    },
    {
      "cell_type": "code",
      "metadata": {
        "colab": {
          "base_uri": "https://localhost:8080/",
          "height": 35
        },
        "id": "2d_9pN_kONQK",
        "outputId": "a285113a-789f-4dc2-a163-2547c9c60839"
      },
      "source": [
        "X_new = preprocess([\"How are yo\"])\n",
        "Y_pred = np.argmax(model.predict(X_new), axis=-1)\n",
        "\n",
        "#show the first sentence, last character\n",
        "tokenizer.sequences_to_texts(Y_pred +1)[0][-1] "
      ],
      "execution_count": 70,
      "outputs": [
        {
          "output_type": "execute_result",
          "data": {
            "application/vnd.google.colaboratory.intrinsic+json": {
              "type": "string"
            },
            "text/plain": [
              "'u'"
            ]
          },
          "metadata": {
            "tags": []
          },
          "execution_count": 70
        }
      ]
    },
    {
      "cell_type": "markdown",
      "metadata": {
        "id": "ZDk4FYTxbFWC"
      },
      "source": [
        "## Generating fake shakespearian text"
      ]
    },
    {
      "cell_type": "code",
      "metadata": {
        "id": "1xtD2RFFPNv5"
      },
      "source": [
        "def next_char(text, temperature=1):\n",
        "  # temperature close to 0 will favor high probability characters,\n",
        "  # very high temperature will favor equal probability for all characters\n",
        "  X_new = preprocess([text])\n",
        "  y_proba = model.predict(X_new)[0, -1:, :]\n",
        "  rescaled_logits = tf.math.log(y_proba) / temperature\n",
        "  # Logits are class log probabilities\n",
        "  char_id = tf.random.categorical(rescaled_logits, num_samples=1) +1\n",
        "  return tokenizer.sequences_to_texts(char_id.numpy())[0]"
      ],
      "execution_count": 82,
      "outputs": []
    },
    {
      "cell_type": "code",
      "metadata": {
        "id": "hxDvyk4pdhaX"
      },
      "source": [
        "def complete_text(text, n_chars=50, temperature=1):\n",
        "  for _ in range(n_chars):\n",
        "    text += next_char(text, temperature)\n",
        "  return text"
      ],
      "execution_count": 73,
      "outputs": []
    },
    {
      "cell_type": "code",
      "metadata": {
        "colab": {
          "base_uri": "https://localhost:8080/"
        },
        "id": "4BIxcAced2io",
        "outputId": "6344e4f7-a2be-4d36-ca3d-a8e4c7445dfa"
      },
      "source": [
        "print(complete_text(\"the\", temperature=0.2))"
      ],
      "execution_count": 85,
      "outputs": [
        {
          "output_type": "stream",
          "text": [
            "the world,\n",
            "and well you will be rest in padua,\n",
            "such a\n"
          ],
          "name": "stdout"
        }
      ]
    },
    {
      "cell_type": "code",
      "metadata": {
        "colab": {
          "base_uri": "https://localhost:8080/"
        },
        "id": "0yhoSEBGd6vA",
        "outputId": "044868d8-1195-442f-9e46-8f3d862378e6"
      },
      "source": [
        "print(complete_text(\"where\", temperature=0.2))"
      ],
      "execution_count": 86,
      "outputs": [
        {
          "output_type": "stream",
          "text": [
            "where is not her to my hands, the matter that he will b\n"
          ],
          "name": "stdout"
        }
      ]
    },
    {
      "cell_type": "code",
      "metadata": {
        "colab": {
          "base_uri": "https://localhost:8080/"
        },
        "id": "lHYzUxn5evtl",
        "outputId": "19f847ae-c929-4e66-9741-298445d1e961"
      },
      "source": [
        "print(complete_text(\"where\", temperature=1))"
      ],
      "execution_count": 87,
      "outputs": [
        {
          "output_type": "stream",
          "text": [
            "whereof,\n",
            "perhaps there orawtor's to'tn behald to thee,\n",
            "\n"
          ],
          "name": "stdout"
        }
      ]
    },
    {
      "cell_type": "code",
      "metadata": {
        "colab": {
          "base_uri": "https://localhost:8080/"
        },
        "id": "41WV5hsRe0ni",
        "outputId": "7f086a31-4737-42bc-c840-9163e702cfc4"
      },
      "source": [
        "print(complete_text(\"where\", temperature=0))"
      ],
      "execution_count": 88,
      "outputs": [
        {
          "output_type": "stream",
          "text": [
            "where$$$$$$$$$$$$$$$$$$$$$$$$$$$$$$$$$$$$$$$$$$$$$$$$$$\n"
          ],
          "name": "stdout"
        }
      ]
    },
    {
      "cell_type": "code",
      "metadata": {
        "colab": {
          "base_uri": "https://localhost:8080/"
        },
        "id": "Oc4j7XRNe2vx",
        "outputId": "5677d825-d105-44f6-ec06-61142674b862"
      },
      "source": [
        "print(complete_text(\"where\", temperature=0.1))"
      ],
      "execution_count": 89,
      "outputs": [
        {
          "output_type": "stream",
          "text": [
            "where i have a suitors and the world.\n",
            "\n",
            "gremio:\n",
            "sir, i w\n"
          ],
          "name": "stdout"
        }
      ]
    }
  ]
}